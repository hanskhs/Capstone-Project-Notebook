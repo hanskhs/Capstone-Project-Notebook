{
 "cells": [
  {
   "cell_type": "markdown",
   "metadata": {},
   "source": [
    "<b> Introduction <b>\n",
    "   "
   ]
  },
  {
   "cell_type": "markdown",
   "metadata": {},
   "source": [
    "Singapore is a known food paradise with influence from its multi-racialism demographic, cross-cultural historical roots, and generally, an insatiable appetite for good food. As Singapore is a small country, tourists tend to visit for a short duration, and consequentially, that means a limited number of meals for the many food gems out there. \n",
    "\n",
    "With Foursquare, the best food places can be shortlisted through crowdsourcing the ratings of each food place from the experience of locals and tourists combined. This Best Food Places list can then be used by a tourist to plan his itinerary for his travel in Singapore. \n"
   ]
  },
  {
   "cell_type": "markdown",
   "metadata": {},
   "source": [
    "<b>Data to be used <b>"
   ]
  },
  {
   "cell_type": "markdown",
   "metadata": {},
   "source": [
    "1. Areas in Singapore \n",
    "2. Food venues in Singapore sorted by ratings \n",
    "\n",
    "Areas in Singapore will be derived from 'Towns' as listed from any available dataset from https://data.gov.sg. In this case, https://data.gov.sg/dataset/b35046dc-7428-4cff-968d-ef4c3e9e6c99, will be used. Town coordinates will be retrieved using Google Maps. \n",
    "\n",
    "Food venues in Singapore sorted by ratings will be obtained from FourSquare. Explore endpoint will be used to get the venue, its category of establishment, and coordinates.\n",
    "\n"
   ]
  },
  {
   "cell_type": "markdown",
   "metadata": {},
   "source": [
    "<b>Method<b>"
   ]
  },
  {
   "cell_type": "markdown",
   "metadata": {},
   "source": [
    "\n",
    "Singapore will be segmented into different areas for the different food places to be grouped under. This appreciation of the Singapore food scene and its geography will facilitate any accommodation arrangement. "
   ]
  },
  {
   "cell_type": "code",
   "execution_count": null,
   "metadata": {},
   "outputs": [],
   "source": []
  }
 ],
 "metadata": {
  "kernelspec": {
   "display_name": "Python 3",
   "language": "python",
   "name": "python3"
  },
  "language_info": {
   "codemirror_mode": {
    "name": "ipython",
    "version": 3
   },
   "file_extension": ".py",
   "mimetype": "text/x-python",
   "name": "python",
   "nbconvert_exporter": "python",
   "pygments_lexer": "ipython3",
   "version": "3.7.3"
  }
 },
 "nbformat": 4,
 "nbformat_minor": 2
}
